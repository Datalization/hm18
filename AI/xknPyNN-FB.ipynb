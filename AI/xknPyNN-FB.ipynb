{
 "cells": [
  {
   "cell_type": "markdown",
   "metadata": {},
   "source": [
    "# Name:dd\n",
    "# Time:2018.2.5\n",
    "# Title：BP神经网络原理研究"
   ]
  },
  {
   "cell_type": "markdown",
   "metadata": {},
   "source": [
    "# ——————————————————————————————"
   ]
  },
  {
   "cell_type": "markdown",
   "metadata": {},
   "source": [
    "# 有一个单细胞生物，生活在糖水和盐水混合物中，糖水盐水在不停的流动，它有两个鞭毛，分别可以感知糖水和盐水，当总浓度到达一定值时，就会吃这些糖水盐水"
   ]
  },
  {
   "cell_type": "markdown",
   "metadata": {},
   "source": [
    "![](神经元.png)  ![](ANN.jpg)"
   ]
  },
  {
   "cell_type": "markdown",
   "metadata": {},
   "source": [
    "# 但是，同时吃进糖水和盐水，会造成细胞结石，有损细胞健康\n",
    "\n",
    "\n",
    "# 慢慢地，单细胞生物慢慢和其它细胞一起，组成了多细胞生物，进化出了一个能力，有糖水吃糖水，有盐水吃盐水，同时都有的话就不吃，防止细胞里面无法同时消化两种物体。"
   ]
  },
  {
   "cell_type": "markdown",
   "metadata": {},
   "source": [
    "![](多神经元.png)\n",
    "![](ANNNetwork.jpg)"
   ]
  },
  {
   "cell_type": "markdown",
   "metadata": {},
   "source": [
    "# 下面，我们用人工神经元网络来模拟从单细胞到多细胞的进化过程\n",
    "# 首先，画出最终的输入输出函数3维曲线。"
   ]
  },
  {
   "cell_type": "code",
   "execution_count": null,
   "metadata": {},
   "outputs": [],
   "source": [
    "import numpy as np\n",
    "import matplotlib.pyplot as plt\n",
    "from mpl_toolkits.mplot3d import Axes3D\n",
    "\n",
    "fig = plt.figure()\n",
    "ax = Axes3D(fig)\n",
    "\n",
    "x1=np.arange(0,2,1)\n",
    "x2=np.arange(0,2,1)\n",
    "\n",
    "X,Y=np.meshgrid(x1, x2)    # x-y 平面的网格\n",
    "Z=np.logical_xor(X,Y)\n",
    "\n",
    "ax.plot_surface(X, Y, Z, rstride = 1, cstride = 1, cmap = plt.get_cmap('rainbow'))\n",
    "ax.contour(X, Y, Z, offset = -0.5, cmap = 'rainbow')\n",
    "ax.set_zlim(-1, 1)\n",
    "\n",
    "plt.show()\n",
    "\n",
    "print(X)\n",
    "print(Y)\n",
    "print(Z)"
   ]
  },
  {
   "cell_type": "code",
   "execution_count": null,
   "metadata": {},
   "outputs": [],
   "source": []
  },
  {
   "cell_type": "code",
   "execution_count": null,
   "metadata": {},
   "outputs": [],
   "source": [
    "import numpy as np\n",
    "import matplotlib.pyplot as plt\n",
    "from mpl_toolkits.mplot3d import Axes3D\n",
    "\n",
    "fig = plt.figure()\n",
    "ax = Axes3D(fig)\n",
    "\n",
    "# X, Y value\n",
    "X = np.arange(-4, 4, 0.25)\n",
    "Y = np.arange(-4, 4, 0.25)\n",
    "X, Y = np.meshgrid(X, Y)    # x-y 平面的网格\n",
    "\n",
    "\n",
    "R = np.sqrt(X ** 2 + Y ** 2)\n",
    "# height value\n",
    "Z= np.sin(R)\n",
    "ax.plot_surface(X, Y, Z, rstride = 1, cstride = 1, cmap = plt.get_cmap('rainbow'))\n",
    "\n",
    "# 绘制从3D曲面到底部的投影\n",
    "#ax.contour(X, Y, Z, zdim = 'z', offset = -2, cmap = 'rainbow')\n",
    "\n",
    "# 设置z轴的维度\n",
    "ax.set_zlim(-2, 2)\n",
    "\n",
    "plt.show()\n"
   ]
  },
  {
   "cell_type": "markdown",
   "metadata": {},
   "source": [
    "# 用神经网络来学习XOR函数迭代版"
   ]
  },
  {
   "cell_type": "code",
   "execution_count": null,
   "metadata": {},
   "outputs": [],
   "source": [
    "import numpy as np  # Note: there is a typo on this line in the video"
   ]
  },
  {
   "cell_type": "code",
   "execution_count": null,
   "metadata": {},
   "outputs": [],
   "source": [
    "%matplotlib inline\n",
    "import numpy as np\n",
    "import matplotlib.pyplot as plt\n",
    "\n",
    "x=np.arange(-1,5,0.2)\n",
    "\n",
    "y=x*x+np.sqrt(x+1)-3*x\n",
    "\n",
    "y0=(x+x)*0\n",
    "\n",
    "#print(x,y)\n",
    "\n",
    "plt.plot(x,y)\n",
    "plt.plot(x,y0)\n",
    "\n",
    "plt.show()\n",
    "\n",
    "#print(\"x,y,y1,yh\")\n",
    "\n",
    "x=0.5\n",
    "#print(x)\n",
    "yl=x*x+np.sqrt(x+1)-3*x\n",
    "#print(yl)\n",
    "\n",
    "x=2.1824\n",
    "#print(x)\n",
    "yh=x*x+np.sqrt(x+1)-3*x\n",
    "#print(yh)\n",
    "\n",
    "\n"
   ]
  },
  {
   "cell_type": "markdown",
   "metadata": {},
   "source": [
    "# 首先，定义一个sigmod函数"
   ]
  },
  {
   "cell_type": "code",
   "execution_count": 280,
   "metadata": {},
   "outputs": [],
   "source": [
    "def nonlin(x, deriv=False):  \n",
    "    if(deriv==True):\n",
    "        return (x*(1-x))\n",
    "    \n",
    "    return 1/(1+np.exp(-x))"
   ]
  },
  {
   "cell_type": "markdown",
   "metadata": {},
   "source": [
    "# 1/(1+exp(-x)) 导数推导\n",
    "\n",
    "(1/(1+exp(-x)))'=((1+exp(-x))^-1)'=(-1)((1+exp(-x))^-2)(1+exp(-x))'=(-1)((1+exp(-x))^-2)(exp(-x))'\n",
    "而(exp(-x))'可以先转成(exp(x)^-1)'，于是她又是一个复合函数的求导，即(exp(x)^-1)对exp(x)的导数再乘上exp(x)对x的导数，又基本初等函数求导公式告诉我们，(exp(x))'=exp(x)，所以(exp(-x))'=(exp(x)^-1)'=(-1)(exp(x)^-2)(exp(x))'=(-1)(exp(x)^-2)exp(x)=(-1)(exp(x)^-1)=(-1)exp(-x)\n",
    "那么：\n",
    "(-1)((1+exp(-x))^-2)(exp(-x))'=(-1)((1+exp(-x))^-2)(-1)exp(-x)=exp(-x)((1+exp(-x))^-2)=exp(-x)/((1+exp(-x))^2) \n",
    "\n",
    "![](dsigmoid.png)\n"
   ]
  },
  {
   "cell_type": "code",
   "execution_count": null,
   "metadata": {},
   "outputs": [],
   "source": [
    "%matplotlib inline\n",
    "import numpy as np\n",
    "import matplotlib.pyplot as plt\n",
    "\n",
    "x=np.arange(-10,10,2)\n",
    "y=nonlin(x)\n",
    "#print(y)\n",
    "plt.plot(x,y)\n",
    "plt.show()\n"
   ]
  },
  {
   "cell_type": "code",
   "execution_count": 282,
   "metadata": {},
   "outputs": [
    {
     "data": {
      "image/png": "[encoded data removed]",
      "text/plain": [
       "<matplotlib.figure.Figure at 0x1d51156c240>"
      ]
     },
     "metadata": {},
     "output_type": "display_data"
    }
   ],
   "source": [
    "%matplotlib inline\n",
    "import numpy as np\n",
    "import matplotlib.pyplot as plt\n",
    "\n",
    "x=np.arange(-10,10,0.01)\n",
    "y=1/(1+np.exp(-x))\n",
    "yderiv=nonlin(y,deriv=True)\n",
    "plt.plot(x,yderiv)\n",
    "plt.show()\n"
   ]
  },
  {
   "cell_type": "markdown",
   "metadata": {},
   "source": [
    "# 复习一下表格试凑法"
   ]
  },
  {
   "cell_type": "markdown",
   "metadata": {},
   "source": [
    "![](weights_solution.png)"
   ]
  },
  {
   "cell_type": "markdown",
   "metadata": {},
   "source": [
    "![](BPBSYN0SYN1.png)"
   ]
  },
  {
   "cell_type": "code",
   "execution_count": null,
   "metadata": {},
   "outputs": [],
   "source": [
    "syn0=np.array([[-99,-99,99,99.0],\n",
    "              [-99,99,-99,99],\n",
    "              [99,0,0,99]])\n",
    "#print(syn0)\n",
    "\n",
    "syn1=np.array([[0],\n",
    "              [1.0],\n",
    "              [1.0],\n",
    "              [0]])\n",
    "\n"
   ]
  },
  {
   "cell_type": "markdown",
   "metadata": {},
   "source": [
    "# 所有可能的输入值放在一个向量中"
   ]
  },
  {
   "cell_type": "code",
   "execution_count": 304,
   "metadata": {},
   "outputs": [],
   "source": [
    "#input data\n",
    "xinputs = np.array([[0,0,1], \n",
    "            [0,1,1],\n",
    "            [1,0,1],\n",
    "            [1,1,1]])\n",
    "l0=xinputs"
   ]
  },
  {
   "cell_type": "markdown",
   "metadata": {},
   "source": [
    "# 计算第一层的线性输出\n"
   ]
  },
  {
   "cell_type": "code",
   "execution_count": null,
   "metadata": {},
   "outputs": [],
   "source": [
    "SO1=np.dot(xinputs,syn0)\n",
    "#print(SO1)"
   ]
  },
  {
   "cell_type": "code",
   "execution_count": null,
   "metadata": {},
   "outputs": [],
   "source": [
    "l1=nonlin(SO1)\n",
    "#print(l1)"
   ]
  },
  {
   "cell_type": "code",
   "execution_count": null,
   "metadata": {},
   "outputs": [],
   "source": [
    "SO2=np.dot(l1,syn1)\n",
    "#print(SO2)"
   ]
  },
  {
   "cell_type": "code",
   "execution_count": null,
   "metadata": {},
   "outputs": [],
   "source": [
    "l2=nonlin(SO2)\n",
    "#print(l2)"
   ]
  },
  {
   "cell_type": "markdown",
   "metadata": {},
   "source": [
    "# 希望的的输出结果"
   ]
  },
  {
   "cell_type": "code",
   "execution_count": 309,
   "metadata": {},
   "outputs": [],
   "source": [
    "#output data\n",
    "y = np.array([[0],\n",
    "             [1],\n",
    "             [1],\n",
    "             [0]])"
   ]
  },
  {
   "cell_type": "markdown",
   "metadata": {},
   "source": [
    "# 误差是"
   ]
  },
  {
   "cell_type": "code",
   "execution_count": null,
   "metadata": {},
   "outputs": [],
   "source": [
    "l2_error=y-l2\n",
    "#print(l2_error)"
   ]
  },
  {
   "cell_type": "markdown",
   "metadata": {},
   "source": [
    "# 为了直观地得出总误差多大，引入绝对值平均值lmabs"
   ]
  },
  {
   "cell_type": "code",
   "execution_count": null,
   "metadata": {},
   "outputs": [],
   "source": [
    "#误差的平均绝对为\n",
    "lms=np.mean(np.abs(l2_error))\n",
    "print(lms)\n",
    "\n",
    "sk=[]\n",
    "yerrorlmss=[]\n",
    "syn1_0=[]\n",
    "sks=0\n",
    "\n",
    "syn1_0.append(syn1[0,0])\n",
    "sk.append(sks)\n",
    "yerrorlmss.append(lms)\n",
    "sks=sks+1\n"
   ]
  },
  {
   "cell_type": "markdown",
   "metadata": {},
   "source": [
    "# 误差反向传播\n",
    "\n",
    "![](syn01delta.png)"
   ]
  },
  {
   "cell_type": "markdown",
   "metadata": {},
   "source": [
    "# 利用误差修正第二层权值网络"
   ]
  },
  {
   "cell_type": "code",
   "execution_count": 312,
   "metadata": {},
   "outputs": [],
   "source": [
    "l2_delta = l2_error*nonlin(l2, deriv=True)"
   ]
  },
  {
   "cell_type": "code",
   "execution_count": null,
   "metadata": {},
   "outputs": [],
   "source": [
    "#print(l2_delta)"
   ]
  },
  {
   "cell_type": "markdown",
   "metadata": {},
   "source": [
    "# 计算第一层的误差"
   ]
  },
  {
   "cell_type": "code",
   "execution_count": null,
   "metadata": {},
   "outputs": [],
   "source": [
    "#print(syn1)"
   ]
  },
  {
   "cell_type": "code",
   "execution_count": null,
   "metadata": {},
   "outputs": [],
   "source": [
    "#print(syn1.T)"
   ]
  },
  {
   "cell_type": "code",
   "execution_count": null,
   "metadata": {},
   "outputs": [],
   "source": [
    "l1_error = l2_delta.dot(syn1.T)\n",
    "#print(l1_error)"
   ]
  },
  {
   "cell_type": "markdown",
   "metadata": {},
   "source": [
    "# 计算第一层的修正值"
   ]
  },
  {
   "cell_type": "code",
   "execution_count": null,
   "metadata": {},
   "outputs": [],
   "source": [
    "l1_delta = l1_error * nonlin(l1,deriv=True)\n",
    "#print(l1_delta)"
   ]
  },
  {
   "cell_type": "markdown",
   "metadata": {},
   "source": [
    "# 修正权值网络"
   ]
  },
  {
   "cell_type": "code",
   "execution_count": 318,
   "metadata": {},
   "outputs": [],
   "source": [
    "syn1 += l1.T.dot(l2_delta)\n",
    "syn0 += l0.T.dot(l1_delta)    "
   ]
  },
  {
   "cell_type": "code",
   "execution_count": null,
   "metadata": {},
   "outputs": [],
   "source": [
    "#print(syn0)\n",
    "#print(syn1)"
   ]
  },
  {
   "cell_type": "markdown",
   "metadata": {},
   "source": [
    "![](syn01delta.png)"
   ]
  },
  {
   "cell_type": "markdown",
   "metadata": {},
   "source": [
    "# 机器迭代最终答案"
   ]
  },
  {
   "cell_type": "code",
   "execution_count": null,
   "metadata": {},
   "outputs": [],
   "source": [
    "for j in range(100):  \n",
    "    \n",
    "    #print(\"start forward calulate\")\n",
    "    l0 = xinputs\n",
    "    #print(\"l0\")\n",
    "    #print(l0)    \n",
    "    l1 = nonlin(np.dot(l0, syn0))\n",
    "    #print(\"l1\")\n",
    "    #print(l1)\n",
    "    l2 = nonlin(np.dot(l1, syn1))\n",
    "    #print(\"l2\")\n",
    "    #print(l2)\n",
    "    \n",
    "    # Back propagation of errors using the chain rule. \n",
    "    l2_error = y - l2\n",
    "    \n",
    "    #print(\"l2\")\n",
    "    #print(l2)\n",
    "    \n",
    "    #print(\"l2_error\")\n",
    "    #print(l2_error)\n",
    "    \n",
    "    lms=np.mean(np.abs(l2_error))\n",
    "    syn1_0.append(syn1[0,0])\n",
    "    sk.append(sks)\n",
    "    yerrorlmss.append(lms)\n",
    "    sks=sks+1\n",
    "    \n",
    "    #print(\"Error:\")\n",
    "    #print(lms)\n",
    "        \n",
    "    l2_delta = l2_error*nonlin(l2, deriv=True)\n",
    "    \n",
    "    #print(\"nonline derive\")\n",
    "    #print(nonlin(l2,deriv=True))\n",
    "    \n",
    "    #print(\"l2_delta\")      \n",
    "    #print(l2_delta)\n",
    "          \n",
    "#    l1_error = l2_delta.dot(syn1.T)\n",
    "    \n",
    "    #print(\"syn1.T\")\n",
    "    #print(syn1.T)\n",
    "    \n",
    "    #print(\"l1_error\")\n",
    "    #print(l1_error)\n",
    "    \n",
    "    l1_delta = l1_error * nonlin(l1,deriv=True)\n",
    "    \n",
    "    #print(\"nonlin(l1,deriv=True)\")\n",
    "    #print(nonlin(l1,deriv=True))\n",
    "        \n",
    "    \n",
    "    #update weights (no learning rate term)\n",
    "    syn1 += l1.T.dot(l2_delta)\n",
    "    syn0 += l0.T.dot(l1_delta)\n",
    "    \n",
    "    #print(\"syn0 syn1\")\n",
    "    \n",
    "    #print(syn0)\n",
    "    #print(syn1)\n",
    "    \n",
    "print(\"Output after training\")\n",
    "print(l2)\n",
    "\n",
    "print(syn1_0)\n",
    "print(yerrorlmss)\n",
    "   "
   ]
  },
  {
   "cell_type": "markdown",
   "metadata": {},
   "source": [
    "# 作业：\n",
    "# 1.画出syn1[0] 的值在迭代过程中与Error的绝对值平均值yerrorlmss的对应关系曲线。\n",
    "# 2.画出迭代过程中syn1_0的 变化曲线\n",
    "# 3.画出迭代过程中yerrorlmss的 变化曲线\n",
    "\n",
    "提示：\n",
    "1. syn1[0]从0开始，到-4.8315   \n",
    "2. 声明list,然后append值,变量名syn1_0,yerrorlmss\n",
    "3. 为了画出横坐标为迭代次数的图，需要创建对应顺序值，list命名为sk，变量名命名为sks，利用append添加每次的顺序值。\n",
    "4. j循环体内以及j循环体前面的初始值均需要考虑\n",
    "\n"
   ]
  },
  {
   "cell_type": "code",
   "execution_count": 321,
   "metadata": {},
   "outputs": [
    {
     "data": {
      "image/png": "[encoded data removed]",
      "text/plain": [
       "<matplotlib.figure.Figure at 0x1d5135fa978>"
      ]
     },
     "metadata": {},
     "output_type": "display_data"
    },
    {
     "name": "stdout",
     "output_type": "stream",
     "text": [
      "[0, 1, 2, 3, 4, 5, 6, 7, 8, 9, 10, 11, 12, 13, 14, 15, 16, 17, 18, 19, 20, 21, 22, 23, 24, 25, 26, 27, 28, 29, 30, 31, 32, 33, 34, 35, 36, 37, 38, 39, 40, 41, 42, 43, 44, 45, 46, 47, 48, 49, 50, 51, 52, 53, 54, 55, 56, 57, 58, 59, 60, 61, 62, 63, 64, 65, 66, 67, 68, 69, 70, 71, 72, 73, 74, 75, 76, 77, 78, 79, 80, 81, 82, 83, 84, 85, 86, 87, 88, 89, 90, 91, 92, 93, 94, 95, 96, 97, 98, 99, 100]\n",
      "[0.5, 0.49448427379942766, 0.4890968219722739, 0.4840676097699067, 0.47911040636144164, 0.4740046148614543, 0.46868011003476656, 0.4631376690181409, 0.4574002447634065, 0.45149451553847053, 0.44544547931530537, 0.4392756545828189, 0.43300558432645025, 0.42665448414009, 0.4202407044959697, 0.41378197236040015, 0.40729546383860443, 0.4007977704604252, 0.3943048097861456, 0.3878317155610476, 0.38139272968291266, 0.3750011088332089, 0.3686690522629734, 0.36240765311770357, 0.35622687313103363, 0.35013553899701483, 0.34414135789054745, 0.33825094920963655, 0.33246988950724393, 0.3268027676623294, 0.32125324754026785, 0.315824135664419, 0.310517451729399, 0.3053345001082855, 0.30027594082323894, 0.2953418587497121, 0.2905318301005152, 0.2858449854827392, 0.2812800690356254, 0.27683549334060753, 0.2725093899470471, 0.26829965548071605, 0.26420399339958645, 0.2602199515359941, 0.25634495561889864, 0.2525763390078564, 0.24891136889432317, 0.24534726923868053, 0.24188124071525252, 0.2385104779345943, 0.23523218420423053, 0.23204358407722459, 0.22894193392368523, 0.22592453074448599, 0.222988719429871, 0.22013189864879862, 0.21735152553828643, 0.21464511934598876, 0.21201026416395807, 0.20944461087719432, 0.20694587843722717, 0.20451185455865623, 0.20214039592530034, 0.19982942798234798, 0.19757694438162413, 0.19538100613873513, 0.19323974055337573, 0.19115133993739727, 0.1891140601893001, 0.1871262192485453, 0.18518619545842663, 0.1832924258621446, 0.18144340445311669, 0.17963768039739897, 0.17787385624332955, 0.17615058613109572, 0.17446657401282303, 0.172820571891969, 0.17121137808922013, 0.16963783554073258, 0.16809883013338048, 0.16659328908066723, 0.16512017934209233, 0.16367850608802717, 0.16226731121152949, 0.1608856718879933, 0.1595326991830832, 0.15820753670903057, 0.1569093593290541, 0.15563737190941052, 0.15439080811837141, 0.15316892927124898, 0.15197102322046058, 0.1507964032895115, 0.14964440724969844, 0.14851439633827201, 0.14740575431675845, 0.14631788656811234, 0.14525021923136017, 0.1442021983723912, 0.14317328918955963]\n"
     ]
    }
   ],
   "source": [
    "%matplotlib inline\n",
    "import numpy as np\n",
    "import matplotlib.pyplot as plt\n",
    "\n",
    "x=sk\n",
    "y=yerrorlmss\n",
    "plt.plot(x,y)\n",
    "plt.show()\n",
    "print(x)\n",
    "print(y)\n",
    "\n"
   ]
  },
  {
   "cell_type": "markdown",
   "metadata": {},
   "source": [
    "# 画出迭代过程中syn1_0值的变化趋势"
   ]
  },
  {
   "cell_type": "code",
   "execution_count": null,
   "metadata": {},
   "outputs": [],
   "source": [
    "%matplotlib inline\n",
    "import numpy as np\n",
    "import matplotlib.pyplot as plt\n",
    "\n",
    "x=sk\n",
    "y=yerrorlmss\n",
    "plt.plot(x,y)\n",
    "plt.show()\n"
   ]
  },
  {
   "cell_type": "markdown",
   "metadata": {},
   "source": [
    "# 画出迭代过程中，yerrorlms变化趋势"
   ]
  },
  {
   "cell_type": "code",
   "execution_count": 323,
   "metadata": {},
   "outputs": [
    {
     "data": {
      "image/png": "[encoded data removed]",
      "text/plain": [
       "<matplotlib.figure.Figure at 0x1d513994438>"
      ]
     },
     "metadata": {},
     "output_type": "display_data"
    }
   ],
   "source": [
    "%matplotlib inline\n",
    "import numpy as np\n",
    "import matplotlib.pyplot as plt\n",
    "x=sk\n",
    "y=yerrorlmss\n",
    "\n",
    "plt.plot(x,y)\n",
    "plt.show()\n"
   ]
  },
  {
   "cell_type": "markdown",
   "metadata": {},
   "source": [
    "# 作业：修改迭代次数，根据yerrolms的趋势，确定迭代次数的最佳值"
   ]
  },
  {
   "cell_type": "code",
   "execution_count": null,
   "metadata": {},
   "outputs": [],
   "source": []
  },
  {
   "cell_type": "code",
   "execution_count": null,
   "metadata": {},
   "outputs": [],
   "source": []
  }
 ],
 "metadata": {
  "anaconda-cloud": {},
  "kernelspec": {
   "display_name": "Python 3",
   "language": "python",
   "name": "python3"
  },
  "language_info": {
   "codemirror_mode": {
    "name": "ipython",
    "version": 3
   },
   "file_extension": ".py",
   "mimetype": "text/x-python",
   "name": "python",
   "nbconvert_exporter": "python",
   "pygments_lexer": "ipython3",
   "version": "3.6.1"
  }
 },
 "nbformat": 4,
 "nbformat_minor": 1
}
