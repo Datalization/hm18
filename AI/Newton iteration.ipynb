{
 "cells": [
  {
   "cell_type": "code",
   "execution_count": 219,
   "metadata": {},
   "outputs": [
    {
     "name": "stdout",
     "output_type": "stream",
     "text": [
      "-6.661338147750939e-16\n",
      "0.0\n"
     ]
    }
   ],
   "source": [
    "%matplotlib inline\n",
    "import numpy as np\n",
    "import matplotlib.pyplot as plt\n",
    "\n",
    "x =np.arange(-1,5,0.01)\n",
    "y1 = x*x-3*x+np.sqrt(x+1)\n",
    "y2 = 0*x\n",
    "#plt.plot(x,y1)\n",
    "#plt.plot(x,y2)\n",
    "#plt.show()\n",
    "\n",
    "x1=2.182644323595947843\n",
    "y1 = x1*x1-3*x1+np.sqrt(x1+1)\n",
    "print(y1)\n",
    "x2=0.4842784107086607\n",
    "y3= x2*x2-3*x2+np.sqrt(x2+1)\n",
    "print(y3)"
   ]
  },
  {
   "cell_type": "code",
   "execution_count": null,
   "metadata": {},
   "outputs": [],
   "source": []
  }
 ],
 "metadata": {
  "kernelspec": {
   "display_name": "Python 3",
   "language": "python",
   "name": "python3"
  },
  "language_info": {
   "codemirror_mode": {
    "name": "ipython",
    "version": 3
   },
   "file_extension": ".py",
   "mimetype": "text/x-python",
   "name": "python",
   "nbconvert_exporter": "python",
   "pygments_lexer": "ipython3",
   "version": "3.6.4"
  }
 },
 "nbformat": 4,
 "nbformat_minor": 2
}
